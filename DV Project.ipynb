{
 "cells": [
  {
   "cell_type": "code",
   "execution_count": 1,
   "metadata": {},
   "outputs": [],
   "source": [
    "import pandas as pd\n",
    "import numpy as np"
   ]
  },
  {
   "cell_type": "code",
   "execution_count": 5,
   "metadata": {},
   "outputs": [],
   "source": [
    "import plotly.graph_objects as go"
   ]
  },
  {
   "cell_type": "code",
   "execution_count": 26,
   "metadata": {},
   "outputs": [
    {
     "data": {
      "text/html": [
       "<div>\n",
       "<style scoped>\n",
       "    .dataframe tbody tr th:only-of-type {\n",
       "        vertical-align: middle;\n",
       "    }\n",
       "\n",
       "    .dataframe tbody tr th {\n",
       "        vertical-align: top;\n",
       "    }\n",
       "\n",
       "    .dataframe thead th {\n",
       "        text-align: right;\n",
       "    }\n",
       "</style>\n",
       "<table border=\"1\" class=\"dataframe\">\n",
       "  <thead>\n",
       "    <tr style=\"text-align: right;\">\n",
       "      <th></th>\n",
       "      <th>budget</th>\n",
       "      <th>company</th>\n",
       "      <th>country</th>\n",
       "      <th>director</th>\n",
       "      <th>genre</th>\n",
       "      <th>revenue</th>\n",
       "      <th>name</th>\n",
       "      <th>rating</th>\n",
       "      <th>runtime</th>\n",
       "      <th>score</th>\n",
       "      <th>star</th>\n",
       "      <th>year</th>\n",
       "      <th>profit</th>\n",
       "    </tr>\n",
       "  </thead>\n",
       "  <tbody>\n",
       "    <tr>\n",
       "      <th>0</th>\n",
       "      <td>80000000</td>\n",
       "      <td>Columbia Pictures Corporation</td>\n",
       "      <td>USA</td>\n",
       "      <td>Rob Reiner</td>\n",
       "      <td>Adventure</td>\n",
       "      <td>522874140</td>\n",
       "      <td>Stand by Me</td>\n",
       "      <td>R</td>\n",
       "      <td>89</td>\n",
       "      <td>81</td>\n",
       "      <td>Wil Wheaton</td>\n",
       "      <td>1986</td>\n",
       "      <td>442874140</td>\n",
       "    </tr>\n",
       "    <tr>\n",
       "      <th>1</th>\n",
       "      <td>60000000</td>\n",
       "      <td>Paramount Pictures</td>\n",
       "      <td>USA</td>\n",
       "      <td>John Hughes</td>\n",
       "      <td>Comedy</td>\n",
       "      <td>701363690</td>\n",
       "      <td>Ferris Bueller's Day Off</td>\n",
       "      <td>PG-13</td>\n",
       "      <td>103</td>\n",
       "      <td>78</td>\n",
       "      <td>Matthew Broderick</td>\n",
       "      <td>1986</td>\n",
       "      <td>641363690</td>\n",
       "    </tr>\n",
       "    <tr>\n",
       "      <th>2</th>\n",
       "      <td>150000000</td>\n",
       "      <td>Paramount Pictures</td>\n",
       "      <td>USA</td>\n",
       "      <td>Tony Scott</td>\n",
       "      <td>Action</td>\n",
       "      <td>1798006010</td>\n",
       "      <td>Top Gun</td>\n",
       "      <td>PG</td>\n",
       "      <td>110</td>\n",
       "      <td>69</td>\n",
       "      <td>Tom Cruise</td>\n",
       "      <td>1986</td>\n",
       "      <td>1648006010</td>\n",
       "    </tr>\n",
       "    <tr>\n",
       "      <th>3</th>\n",
       "      <td>185000000</td>\n",
       "      <td>Twentieth Century Fox Film Corporation</td>\n",
       "      <td>USA</td>\n",
       "      <td>James Cameron</td>\n",
       "      <td>Action</td>\n",
       "      <td>851602480</td>\n",
       "      <td>Aliens</td>\n",
       "      <td>R</td>\n",
       "      <td>137</td>\n",
       "      <td>84</td>\n",
       "      <td>Sigourney Weaver</td>\n",
       "      <td>1986</td>\n",
       "      <td>666602480</td>\n",
       "    </tr>\n",
       "    <tr>\n",
       "      <th>4</th>\n",
       "      <td>90000000</td>\n",
       "      <td>Walt Disney Pictures</td>\n",
       "      <td>USA</td>\n",
       "      <td>Randal Kleiser</td>\n",
       "      <td>Adventure</td>\n",
       "      <td>185646130</td>\n",
       "      <td>Flight of the Navigator</td>\n",
       "      <td>PG</td>\n",
       "      <td>90</td>\n",
       "      <td>69</td>\n",
       "      <td>Joey Cramer</td>\n",
       "      <td>1986</td>\n",
       "      <td>95646130</td>\n",
       "    </tr>\n",
       "  </tbody>\n",
       "</table>\n",
       "</div>"
      ],
      "text/plain": [
       "      budget                                 company country        director  \\\n",
       "0   80000000           Columbia Pictures Corporation     USA      Rob Reiner   \n",
       "1   60000000                      Paramount Pictures     USA     John Hughes   \n",
       "2  150000000                      Paramount Pictures     USA      Tony Scott   \n",
       "3  185000000  Twentieth Century Fox Film Corporation     USA   James Cameron   \n",
       "4   90000000                    Walt Disney Pictures     USA  Randal Kleiser   \n",
       "\n",
       "       genre     revenue                      name rating  runtime  score  \\\n",
       "0  Adventure   522874140               Stand by Me      R       89     81   \n",
       "1     Comedy   701363690  Ferris Bueller's Day Off  PG-13      103     78   \n",
       "2     Action  1798006010                   Top Gun     PG      110     69   \n",
       "3     Action   851602480                    Aliens      R      137     84   \n",
       "4  Adventure   185646130   Flight of the Navigator     PG       90     69   \n",
       "\n",
       "                star  year      profit  \n",
       "0        Wil Wheaton  1986   442874140  \n",
       "1  Matthew Broderick  1986   641363690  \n",
       "2         Tom Cruise  1986  1648006010  \n",
       "3   Sigourney Weaver  1986   666602480  \n",
       "4        Joey Cramer  1986    95646130  "
      ]
     },
     "execution_count": 26,
     "metadata": {},
     "output_type": "execute_result"
    }
   ],
   "source": [
    "df = pd.read_csv('https://raw.githubusercontent.com/rennanvoa2/Data_Visualization/master/movies.csv', sep = ';')\n",
    "df.rename(columns={'gross':'revenue'}, inplace=True)\n",
    "df = df.drop(['released', 'votes', 'writer'], axis=1)\n",
    "df['profit'] = df['revenue'] - df['budget']\n",
    "df.head()"
   ]
  },
  {
   "cell_type": "code",
   "execution_count": 19,
   "metadata": {},
   "outputs": [
    {
     "data": {
      "text/plain": [
       "budget      0\n",
       "company     0\n",
       "country     0\n",
       "director    0\n",
       "genre       0\n",
       "revenue     0\n",
       "name        0\n",
       "rating      0\n",
       "released    0\n",
       "runtime     0\n",
       "score       0\n",
       "star        0\n",
       "votes       0\n",
       "writer      0\n",
       "year        0\n",
       "profit      0\n",
       "dtype: int64"
      ]
     },
     "execution_count": 19,
     "metadata": {},
     "output_type": "execute_result"
    }
   ],
   "source": [
    "df.isnull().sum()"
   ]
  },
  {
   "cell_type": "code",
   "execution_count": 20,
   "metadata": {},
   "outputs": [
    {
     "data": {
      "text/plain": [
       "country\n",
       "Argentina                           13\n",
       "Aruba                                1\n",
       "Australia                           82\n",
       "Austria                              6\n",
       "Bahamas                              1\n",
       "Belgium                             18\n",
       "Brazil                               6\n",
       "Canada                             150\n",
       "Chile                                4\n",
       "China                               24\n",
       "Colombia                             2\n",
       "Cuba                                 1\n",
       "Czech Republic                       8\n",
       "Denmark                             33\n",
       "Federal Republic of Yugoslavia       1\n",
       "Finland                              3\n",
       "France                             283\n",
       "Germany                            134\n",
       "Greece                               5\n",
       "Hong Kong                           39\n",
       "Hungary                              7\n",
       "Iceland                              1\n",
       "India                               39\n",
       "Indonesia                            2\n",
       "Iran                                12\n",
       "Ireland                             44\n",
       "Israel                               5\n",
       "Italy                               51\n",
       "Jamaica                              1\n",
       "Japan                               68\n",
       "Kenya                                1\n",
       "Malta                                1\n",
       "Mexico                              15\n",
       "Netherlands                         12\n",
       "New Zealand                         18\n",
       "Norway                               8\n",
       "Palestine                            1\n",
       "Panama                               1\n",
       "Peru                                 2\n",
       "Poland                               2\n",
       "Portugal                             2\n",
       "Republic of Macedonia                1\n",
       "Romania                              5\n",
       "Russia                              10\n",
       "Saudi Arabia                         1\n",
       "South Africa                         9\n",
       "South Korea                         20\n",
       "Soviet Union                         1\n",
       "Spain                               56\n",
       "Sweden                              18\n",
       "Switzerland                          6\n",
       "Taiwan                               8\n",
       "Thailand                             3\n",
       "UK                                 698\n",
       "USA                               4872\n",
       "Ukraine                              1\n",
       "West Germany                         4\n",
       "dtype: int64"
      ]
     },
     "execution_count": 20,
     "metadata": {},
     "output_type": "execute_result"
    }
   ],
   "source": [
    "country = df.pivot_table(index=['country'], aggfunc='size')\n",
    "country"
   ]
  },
  {
   "cell_type": "code",
   "execution_count": 21,
   "metadata": {},
   "outputs": [
    {
     "data": {
      "text/plain": [
       "year\n",
       "1986    220\n",
       "1987    219\n",
       "1988    220\n",
       "1989    221\n",
       "1990    220\n",
       "1991    220\n",
       "1992    220\n",
       "1993    220\n",
       "1994    220\n",
       "1995    220\n",
       "1996    220\n",
       "1997    220\n",
       "1998    220\n",
       "1999    220\n",
       "2000    220\n",
       "2001    220\n",
       "2002    220\n",
       "2003    220\n",
       "2004    220\n",
       "2005    220\n",
       "2006    220\n",
       "2007    220\n",
       "2008    220\n",
       "2009    220\n",
       "2010    220\n",
       "2011    220\n",
       "2012    220\n",
       "2013    220\n",
       "2014    220\n",
       "2015    220\n",
       "2016    220\n",
       "dtype: int64"
      ]
     },
     "execution_count": 21,
     "metadata": {},
     "output_type": "execute_result"
    }
   ],
   "source": [
    "year = df.pivot_table(index=['year'], aggfunc='size')\n",
    "year"
   ]
  },
  {
   "cell_type": "code",
   "execution_count": 15,
   "metadata": {},
   "outputs": [
    {
     "data": {
      "text/plain": [
       "company\n",
       "\"DIA\" Productions GmbH & Co. KG    1\n",
       "1+2 Seisaku Iinkai                 1\n",
       "101st Street Films                 1\n",
       "10th Hole Productions              1\n",
       "120 Films                          1\n",
       "                                  ..\n",
       "Zucker Brothers Productions        1\n",
       "double A Films                     1\n",
       "erbp                               1\n",
       "i5 Films                           1\n",
       "micro_scope                        1\n",
       "Length: 2179, dtype: int64"
      ]
     },
     "execution_count": 15,
     "metadata": {},
     "output_type": "execute_result"
    }
   ],
   "source": [
    "company = df.pivot_table(index=['company'], aggfunc='size')\n",
    "company"
   ]
  },
  {
   "cell_type": "code",
   "execution_count": 22,
   "metadata": {},
   "outputs": [
    {
     "data": {
      "text/plain": [
       "star\n",
       "'Weird Al' Yankovic    1\n",
       "50 Cent                1\n",
       "A.J. Cook              1\n",
       "Aaliyah                1\n",
       "Aamir Khan             9\n",
       "                      ..\n",
       "Zoey Deutch            2\n",
       "Zooey Deschanel        2\n",
       "Álex Angulo            1\n",
       "Élodie Bouchez         1\n",
       "Émilie Dequenne        1\n",
       "Length: 2504, dtype: int64"
      ]
     },
     "execution_count": 22,
     "metadata": {},
     "output_type": "execute_result"
    }
   ],
   "source": [
    "star = df.pivot_table(index=['star'], aggfunc='size')\n",
    "star"
   ]
  },
  {
   "cell_type": "code",
   "execution_count": 23,
   "metadata": {},
   "outputs": [
    {
     "data": {
      "text/plain": [
       "director\n",
       "A.R. Murugadoss       1\n",
       "Aamir Khan            1\n",
       "Aaron Blaise          1\n",
       "Aaron Harvey          1\n",
       "Aaron Kim Johnston    1\n",
       "                     ..\n",
       "Åke Sandgren          1\n",
       "Élie Chouraqui        1\n",
       "Éric Rohmer           6\n",
       "Étienne Chatiliez     1\n",
       "Éva Gárdos            1\n",
       "Length: 2759, dtype: int64"
      ]
     },
     "execution_count": 23,
     "metadata": {},
     "output_type": "execute_result"
    }
   ],
   "source": [
    "director = df.pivot_table(index=['director'], aggfunc='size')\n",
    "director"
   ]
  },
  {
   "cell_type": "code",
   "execution_count": 24,
   "metadata": {},
   "outputs": [
    {
     "data": {
      "text/plain": [
       "genre\n",
       "Action       1331\n",
       "Adventure     392\n",
       "Animation     277\n",
       "Biography     359\n",
       "Comedy       2080\n",
       "Crime         522\n",
       "Drama        1444\n",
       "Family         14\n",
       "Fantasy        32\n",
       "Horror        277\n",
       "Musical         4\n",
       "Mystery        38\n",
       "Romance        15\n",
       "Sci-Fi         13\n",
       "Thriller       18\n",
       "War             2\n",
       "Western         2\n",
       "dtype: int64"
      ]
     },
     "execution_count": 24,
     "metadata": {},
     "output_type": "execute_result"
    }
   ],
   "source": [
    "genre = df.pivot_table(index=['genre'], aggfunc='size')\n",
    "genre"
   ]
  },
  {
   "cell_type": "code",
   "execution_count": 27,
   "metadata": {},
   "outputs": [
    {
     "data": {
      "text/plain": [
       "rating\n",
       "B                   1\n",
       "B15                 1\n",
       "G                 147\n",
       "NC-17              22\n",
       "NOT RATED         174\n",
       "Not specified      63\n",
       "PG                951\n",
       "PG-13            1995\n",
       "R                3392\n",
       "TV-14               1\n",
       "TV-MA               1\n",
       "TV-PG               1\n",
       "UNRATED            71\n",
       "dtype: int64"
      ]
     },
     "execution_count": 27,
     "metadata": {},
     "output_type": "execute_result"
    }
   ],
   "source": [
    "rating = df.pivot_table(index=['rating'], aggfunc='size')\n",
    "rating"
   ]
  },
  {
   "cell_type": "code",
   "execution_count": null,
   "metadata": {},
   "outputs": [],
   "source": []
  }
 ],
 "metadata": {
  "kernelspec": {
   "display_name": "Python 3",
   "language": "python",
   "name": "python3"
  },
  "language_info": {
   "codemirror_mode": {
    "name": "ipython",
    "version": 3
   },
   "file_extension": ".py",
   "mimetype": "text/x-python",
   "name": "python",
   "nbconvert_exporter": "python",
   "pygments_lexer": "ipython3",
   "version": "3.7.3"
  }
 },
 "nbformat": 4,
 "nbformat_minor": 2
}
